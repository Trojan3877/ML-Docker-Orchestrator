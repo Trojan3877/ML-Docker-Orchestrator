{
 "cells": [
  {
   "cell_type": "markdown",
   "id": "5b7ff3e5",
   "metadata": {},
   "source": [
    "# 📊 Exploratory Data Analysis: Snowflake Data"
   ]
  },
  {
   "cell_type": "code",
   "execution_count": null,
   "id": "32d972dc",
   "metadata": {},
   "outputs": [],
   "source": [
    "import pandas as pd\n",
    "import snowflake.connector\n",
    "import matplotlib.pyplot as plt\n",
    "import seaborn as sns\n"
   ]
  },
  {
   "cell_type": "code",
   "execution_count": null,
   "id": "7ad1dedc",
   "metadata": {},
   "outputs": [],
   "source": [
    "# Replace with your credentials or use environment variables\n",
    "conn = snowflake.connector.connect(\n",
    "    user='YOUR_USER',\n",
    "    password='YOUR_PASSWORD',\n",
    "    account='YOUR_ACCOUNT',\n",
    "    warehouse='COMPUTE_WH',\n",
    "    database='ML_DB',\n",
    "    schema='PUBLIC'\n",
    ")\n",
    "\n",
    "# Query data\n",
    "query = \"SELECT * FROM CUSTOMER_FEATURES;\"\n",
    "df = pd.read_sql(query, conn)\n",
    "conn.close()\n",
    "\n",
    "# Preview data\n",
    "df.head()\n"
   ]
  },
  {
   "cell_type": "code",
   "execution_count": null,
   "id": "e603460b",
   "metadata": {},
   "outputs": [],
   "source": [
    "# Data summary\n",
    "df.describe()\n"
   ]
  },
  {
   "cell_type": "code",
   "execution_count": null,
   "id": "7acf082d",
   "metadata": {},
   "outputs": [],
   "source": [
    "# Correlation matrix\n",
    "plt.figure(figsize=(10, 6))\n",
    "sns.heatmap(df.corr(), annot=True, cmap=\"coolwarm\")\n",
    "plt.title(\"Feature Correlation Matrix\")\n",
    "plt.show()\n"
   ]
  },
  {
   "cell_type": "code",
   "execution_count": null,
   "id": "86736ac6",
   "metadata": {},
   "outputs": [],
   "source": [
    "# Plot distributions of all numeric features\n",
    "df.hist(figsize=(15, 10), bins=30)\n",
    "plt.suptitle(\"Feature Distributions\")\n",
    "plt.tight_layout()\n",
    "plt.show()\n"
   ]
  }
 ],
 "metadata": {},
 "nbformat": 4,
 "nbformat_minor": 5
}